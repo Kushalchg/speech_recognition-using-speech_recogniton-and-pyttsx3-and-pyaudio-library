{
 "cells": [
  {
   "cell_type": "code",
   "execution_count": 51,
   "metadata": {
    "scrolled": true
   },
   "outputs": [
    {
     "name": "stdout",
     "output_type": "stream",
     "text": [
      "say someting\n",
      "what is my name\n"
     ]
    }
   ],
   "source": [
    "import speech_recognition as sr\n",
    "import pyttsx3\n",
    "import pyaudio\n",
    "\n",
    "\n",
    "\n",
    "engine=pyttsx3.init()\n",
    "\n",
    "r=sr.Recognizer()\n",
    "r.energy_threshold=3000\n",
    "\n",
    "\n",
    "\n",
    "with sr.Microphone() as source:\n",
    "    print(\"say someting\")\n",
    "    audio=r.listen(source)\n",
    "    try:\n",
    "\n",
    "        text=r.recognize_google(audio)\n",
    "        print(text)\n",
    "   \n",
    "       \n",
    "    except:\n",
    "        engine.say(\"cant recognize\")\n",
    "        \n",
    "        \n",
    "if \"hello\" in text:\n",
    "    engine.say(\"you say hello\")\n",
    "    \n",
    "    \n",
    "if\"what is my name\" in text:\n",
    "    engine.say(\"your name is kushal chapagain\")\n",
    "\n",
    "engine.runAndWait()\n"
   ]
  },
  {
   "cell_type": "code",
   "execution_count": null,
   "metadata": {},
   "outputs": [],
   "source": []
  }
 ],
 "metadata": {
  "kernelspec": {
   "display_name": "Python 3.7.4 64-bit",
   "language": "python",
   "name": "python37464bit540603bc58d4488ab3043710100f0937"
  },
  "language_info": {
   "codemirror_mode": {
    "name": "ipython",
    "version": 3
   },
   "file_extension": ".py",
   "mimetype": "text/x-python",
   "name": "python",
   "nbconvert_exporter": "python",
   "pygments_lexer": "ipython3",
   "version": "3.7.4"
  }
 },
 "nbformat": 4,
 "nbformat_minor": 4
}
